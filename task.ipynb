{
 "cells": [
  {
   "cell_type": "markdown",
   "metadata": {},
   "source": [
    "# 15 may tasks"
   ]
  },
  {
   "cell_type": "code",
   "execution_count": null,
   "metadata": {},
   "outputs": [],
   "source": [
    "s = \"this is My First Python programming class and i am learNING python string and its function\"\n",
    "1 . Try to extract data from index one to index 300 with a jump of 3 \n",
    "2. Try to reverse a string without using reverse function \n",
    "3. Try to split a string after conversion of entire string in uppercase \n",
    "4. try to convert the whole string into lower case \n",
    "5 . Try to capitalize the whole string \n",
    "6 . Write a diference between isalnum() and isalpha()\n",
    "7. Try to give an example of expand tab\n",
    "8 . Give an example of strip , lstrip and rstrip \n",
    "9.  Replace a string charecter by another charector by taking your own example \n",
    "\"sudhanshu\"\n",
    "10 . Try  to give a defination of string center function with and exmple \n",
    "11 . Write your own definition of compiler and interpretor without copy paste form internet in your own language\n",
    "12 . Python is a interpreted of compiled language give a clear ans with your understanding \n",
    "13 . Try to write a usecase of python with your understanding ."
   ]
  },
  {
   "cell_type": "code",
   "execution_count": null,
   "metadata": {},
   "outputs": [],
   "source": [
    "s = \"this is My First Python programming class and i am learNING python string and its function\"\n",
    "s[1:301:3]"
   ]
  },
  {
   "cell_type": "code",
   "execution_count": null,
   "metadata": {},
   "outputs": [],
   "source": [
    "s[::-1]"
   ]
  },
  {
   "cell_type": "code",
   "execution_count": null,
   "metadata": {},
   "outputs": [],
   "source": [
    "print((s.upper()),s.split())"
   ]
  },
  {
   "cell_type": "code",
   "execution_count": null,
   "metadata": {},
   "outputs": [],
   "source": [
    "print(s.lower())"
   ]
  },
  {
   "cell_type": "code",
   "execution_count": null,
   "metadata": {},
   "outputs": [],
   "source": [
    "print(s.capitalize())"
   ]
  },
  {
   "cell_type": "code",
   "execution_count": null,
   "metadata": {},
   "outputs": [],
   "source": [
    "#difference between isalnum and isalpha?\n",
    "a='123abc'\n",
    "b='123456'\n",
    "print(a.isalnum())\n",
    "print(b.isalpha())\n",
    "print(a.isalpha())\n",
    "print(b.isalnum())\n",
    "#even though a and b are strings isalnum predicts the numbers in the sting. This function full form is IS ALPHANUMERIC?\n",
    "#isalpha perdicts whether every character in the sting are alpha variables?\n"
   ]
  },
  {
   "cell_type": "code",
   "execution_count": null,
   "metadata": {},
   "outputs": [],
   "source": [
    "s = \"this is My \\tFirst Python programming\\t class\\t and i \\tam learNING python string \\tand its function\"\n",
    "#solution 1\n",
    "print(s.expandtabs(tabsize=7))\n",
    "#solution2\n",
    "print('\\t'.join(s))"
   ]
  },
  {
   "cell_type": "code",
   "execution_count": null,
   "metadata": {},
   "outputs": [],
   "source": [
    "gap=\"           happyworld           \"\n",
    "print(gap.strip())\n",
    "print(gap.rstrip())\n",
    "print(gap.lstrip())"
   ]
  },
  {
   "cell_type": "code",
   "execution_count": 28,
   "metadata": {},
   "outputs": [
    {
     "name": "stdout",
     "output_type": "stream",
     "text": [
      "SudhanShu\n"
     ]
    }
   ],
   "source": [
    "name='sudhanshu'\n",
    "print(name.replace('s','S',))"
   ]
  },
  {
   "cell_type": "code",
   "execution_count": 32,
   "metadata": {},
   "outputs": [
    {
     "data": {
      "text/plain": [
       "'>>>>>>>>>>>>>>>>>>>>>>>>>>>>>>>>>>>>>>>>sudhanshu>>>>>>>>>>>>>>>>>>>>>>>>>>>>>>>>>>>>>>>>'"
      ]
     },
     "execution_count": 32,
     "metadata": {},
     "output_type": "execute_result"
    }
   ],
   "source": [
    "#centers the variable with value of the width mentioned. We can also add a single character to fill the gap\n",
    "name.center(89,'>')\n",
    "\n"
   ]
  },
  {
   "cell_type": "markdown",
   "metadata": {},
   "source": [
    "# 21 May Tasks"
   ]
  },
  {
   "cell_type": "code",
   "execution_count": 87,
   "metadata": {},
   "outputs": [
    {
     "name": "stdout",
     "output_type": "stream",
     "text": [
      "[{'key1': 'sudh', 234: [23, 45, 656]}, (234, 6657, 6), [345, 56, 87, 8, 98, 9], [23, 456, 67, 8, 78, 78], 7, 6, 5, 4, 3]\n"
     ]
    }
   ],
   "source": [
    "l = [3,4,5,6,7 , [23,456,67,8,78,78] , [345,56,87,8,98,9] , (234,6657,6) , {\"key1\" :\"sudh\" , 234:[23,45,656]}]\n",
    "#1\n",
    "print(l[::-1])"
   ]
  },
  {
   "cell_type": "code",
   "execution_count": 81,
   "metadata": {},
   "outputs": [
    {
     "name": "stdout",
     "output_type": "stream",
     "text": [
      "234\n",
      "456\n",
      "[23, 456, 67, 8, 78, 78] [345, 56, 87, 8, 98, 9] 23\n"
     ]
    }
   ],
   "source": [
    "#2,3,4\n",
    "print(l[7][0])\n",
    "print(l[5][1])\n",
    "print(l[5],l[6],l[8][234])"
   ]
  },
  {
   "cell_type": "code",
   "execution_count": 77,
   "metadata": {},
   "outputs": [
    {
     "name": "stdout",
     "output_type": "stream",
     "text": [
      "sudh\n"
     ]
    }
   ],
   "source": [
    "#5\n",
    "print(l[8]['key1'])"
   ]
  },
  {
   "cell_type": "code",
   "execution_count": 93,
   "metadata": {},
   "outputs": [
    {
     "name": "stdout",
     "output_type": "stream",
     "text": [
      "[dict_keys(['key1', 234])]\n",
      "[dict_values(['sudh', [23, 45, 656]])]\n"
     ]
    }
   ],
   "source": [
    "#6,7\n",
    "print([l[8].keys()])\n",
    "print([l[8].values()])"
   ]
  },
  {
   "cell_type": "markdown",
   "metadata": {},
   "source": [
    "# 28 may tasks"
   ]
  },
  {
   "cell_type": "code",
   "execution_count": 3,
   "metadata": {},
   "outputs": [
    {
     "name": "stdout",
     "output_type": "stream",
     "text": [
      "ineuron \n",
      "\n",
      "ineuron ineuron \n",
      "\n",
      "ineuron ineuron ineuron \n",
      "\n",
      "ineuron ineuron ineuron ineuron \n",
      "\n"
     ]
    }
   ],
   "source": [
    "for i in range(4):\n",
    "    for j in range(0,i+1):\n",
    "        print('ineuron',end= ' ')\n",
    "    print('\\n')"
   ]
  },
  {
   "cell_type": "code",
   "execution_count": null,
   "metadata": {},
   "outputs": [],
   "source": []
  },
  {
   "cell_type": "code",
   "execution_count": 2,
   "metadata": {},
   "outputs": [],
   "source": [
    "l=[[1,2,3,4],(2,3,4,5,6),(3,4,5,6,7),set([23,4,5,45,4,4,5,45,45,4,5]),{'k1':'sudh','k2':'ineuron','k3':'kumar',3:6,7:8},['ineuron','data science']]"
   ]
  },
  {
   "cell_type": "code",
   "execution_count": 90,
   "metadata": {},
   "outputs": [
    {
     "name": "stdout",
     "output_type": "stream",
     "text": [
      "[[1, 2, 3, 4], (2, 3, 4, 5, 6), (3, 4, 5, 6, 7), {45, 4, 5, 23}, {'k1': 'sudh', 'k2': 'ineuron', 'k3': 'kumar', 3: 6, 7: 8}, ['ineuron', 'data science']]\n",
      "[1, 2, 3, 4]\n",
      "['ineuron', 'data science']\n",
      "{'k1': 'sudh', 'k2': 'ineuron', 'k3': 'kumar', 3: 6, 7: 8}\n",
      "(2, 3, 4, 5, 6)\n",
      "(3, 4, 5, 6, 7)\n",
      "1 2 3 4 2 3 4 5 6 3 4 5 6 7 45 4 5 23 3 6\n",
      "7 8\n",
      "total sum is : 156\n",
      "[2, 4, 2, 4, 6, 4, 6, 4, 6, 8]\n",
      "['ineuron', 'ineuron']\n",
      "kumar ---> 1\n",
      "1 ---> 1\n",
      "2 ---> 2\n",
      "3 ---> 4\n",
      "4 ---> 4\n",
      "5 ---> 3\n",
      "6 ---> 3\n",
      "7 ---> 2\n",
      "k2 ---> 1\n",
      "k3 ---> 1\n",
      "8 ---> 1\n",
      "45 ---> 1\n",
      "k1 ---> 1\n",
      "data science ---> 1\n",
      "sudh ---> 1\n",
      "ineuron ---> 2\n",
      "23 ---> 1\n",
      "5\n",
      "k1 sudh\n",
      "k2 ineuron\n",
      "k3 kumar\n",
      "3 6\n",
      "7 8\n",
      "['k1', 'sudh', 'k2', 'ineuron', 'k3', 'kumar']\n",
      "k1 sudh\n",
      "k2 ineuron\n",
      "k3 kumar\n",
      "ineuron\n",
      "data science\n",
      "24 720 2520 20700 1\n",
      "[1, 2, 3, 4, 2, 3, 4, 5, 6, 3, 4, 5, 6, 7, 45, 4, 5, 23, 'k1', 'sudh', 'k2', 'ineuron', 'k3', 'kumar', 3, 6, 7, 8, 'ineuron', 'data science']\n"
     ]
    }
   ],
   "source": [
    "print(l)\n",
    "#3\n",
    "for i in l:\n",
    "    if type(i)==list:\n",
    "        print(i)\n",
    "#4\n",
    "for i in l:\n",
    "    if type(i)==dict:\n",
    "        print(i)\n",
    "#5\n",
    "for i in l:\n",
    "    if type(i)==tuple:\n",
    "        print(i)\n",
    "#6\n",
    "for i in l:\n",
    "    if type(i)==dict:\n",
    "        for j,k in i.items():\n",
    "            if type(j)==int or type(k)==int:\n",
    "                print(j,k)\n",
    "    elif type(i)==list or type(i)==tuple or type(i)==set:\n",
    "        for m in i:\n",
    "            if type(m)==int:\n",
    "                print(m,end=' ')\n",
    "#7\n",
    "a=[]\n",
    "l\n",
    "for i in l:\n",
    "    if type(i)==list:\n",
    "        for j in i:\n",
    "            if type(j)==int:\n",
    "                a.append(j)\n",
    "                \n",
    "    elif type(i)==tuple:\n",
    "        for g in i:\n",
    "            a.append(g)\n",
    "            \n",
    "    elif type(i)==set:\n",
    "        for h in i:\n",
    "            a.append(h)\n",
    "            \n",
    "    else:\n",
    "        for s,r in i.items():\n",
    "            if type(s)==int or type(r)==int:\n",
    "                a.append(s)\n",
    "                a.append(r)\n",
    "print('total sum is :',sum(a))\n",
    "#8\n",
    "even=[]\n",
    "for i in l:\n",
    "    if type(i)==list:\n",
    "        for m in i:\n",
    "            if type(m)==int:\n",
    "                if m%2==0:\n",
    "                    even.append(m)\n",
    "                    \n",
    "    elif type(i)==tuple:\n",
    "        for m in i:\n",
    "            if m%2==0:\n",
    "                even.append(m)\n",
    "                \n",
    "    elif type(i)==set:\n",
    "        for g in i:\n",
    "            if g%2==0:\n",
    "                even.append(g)\n",
    "                \n",
    "    else:\n",
    "        for a,b in i.items():\n",
    "            if type(a)==int or type(b)==int:\n",
    "                if a%2==0:\n",
    "                    even.append(a)\n",
    "                if b%2==0:\n",
    "                    even.append(b)\n",
    "print(even) \n",
    "#9\n",
    "a1=[]\n",
    "for i in l:\n",
    "    if type(i)==list:\n",
    "        for m in i:\n",
    "            if m=='ineuron':\n",
    "                a1.append(m)\n",
    "    \n",
    "    if type(i)==dict:\n",
    "        for a,b in i.items():\n",
    "            if b=='ineuron':\n",
    "                a1.append(b)\n",
    "print(a1)\n",
    "#10\n",
    "b=[]\n",
    "for i in l:\n",
    "    if type(i)==list or type(i)==tuple or type(i)==set:\n",
    "        for k in i:\n",
    "            b.append(k)\n",
    "    if type(i)==dict:\n",
    "        for c,d in i.items():\n",
    "            b.append(c)\n",
    "            b.append(d)\n",
    "for f in set(b):\n",
    "    print(f,'--->',b.count(f))\n",
    "#11\n",
    "s=[]\n",
    "for i in l:\n",
    "    if type(i)==list or type(i)==set or type(i)==tuple:\n",
    "        pass\n",
    "    elif type(i)==dict:\n",
    "        for a,b in i.items():\n",
    "            if type(a)==str or type(a)==int:\n",
    "                s.append(a)\n",
    "print(len(s))\n",
    "#12\n",
    "s=[]\n",
    "for i in l:\n",
    "    if type(i)==list or type(i)==tuple or type(i)==set:\n",
    "        pass\n",
    "    elif type(i)==dict:\n",
    "        for k,m in i.items():\n",
    "            print(k,m)\n",
    "            if type(k)==str or type(m)==str:\n",
    "                s.append(k)\n",
    "                s.append(m)\n",
    "print(s)\n",
    "#13\n",
    "for i in l:\n",
    "    if type(i)==list or type(i)==tuple or type(i)==set:\n",
    "        for a in i:\n",
    "            if type(a)==str:\n",
    "                a.isalnum()\n",
    "                print(a)\n",
    "    if type(i)==dict:\n",
    "        for c,d in i.items():\n",
    "            if type(c)==str or type(d)==str:\n",
    "                c.isalnum()\n",
    "                d.isalnum()\n",
    "                print(c,d)\n",
    "#14\n",
    "list1=1\n",
    "tuple1=1\n",
    "tuple2=1\n",
    "set1=1\n",
    "dictionary=1\n",
    "for i in l[0]:\n",
    "    list1=list1*i\n",
    "for a in l[1]:\n",
    "    tuple1=tuple1*a\n",
    "for b in l[2]:\n",
    "    tuple2=tuple2*b\n",
    "for c in l[3]:\n",
    "    set1=set1*c\n",
    "for d,e in l[4].items():\n",
    "    if type(d)==int or type(e)==int:\n",
    "        d1=d1*d\n",
    "        d1=d1*e\n",
    "print(list1,tuple1,tuple2,set1,dictionary)\n",
    "#15\n",
    "s=[]\n",
    "for i in l:\n",
    "    if type(i)==list or type(i)==tuple or type(i)==set:\n",
    "        for a in i:\n",
    "            s.append(a)\n",
    "            \n",
    "    elif type(i)==dict:\n",
    "        for c,d in i.items():\n",
    "            s.append(c)\n",
    "            s.append(d)\n",
    "print(s)\n"
   ]
  },
  {
   "cell_type": "code",
   "execution_count": 139,
   "metadata": {},
   "outputs": [
    {
     "name": "stdout",
     "output_type": "stream",
     "text": [
      "sudh sudh sudh \n",
      "\n",
      "sudh sudh sudh \n",
      "\n",
      "sudh sudh sudh "
     ]
    }
   ],
   "source": [
    "n=3\n",
    "for i in range(n):\n",
    "    print('sudh',end=' ')\n",
    "print('\\n')\n",
    "for a in range(n):\n",
    "    print('sudh',end= ' ')\n",
    "print('\\n')\n",
    "for i in range(n):\n",
    "    print('sudh',end= ' ')\n",
    "\n",
    "\n",
    "        "
   ]
  },
  {
   "cell_type": "code",
   "execution_count": 140,
   "metadata": {},
   "outputs": [
    {
     "name": "stdout",
     "output_type": "stream",
     "text": [
      "               "
     ]
    }
   ],
   "source": []
  },
  {
   "cell_type": "code",
   "execution_count": null,
   "metadata": {},
   "outputs": [],
   "source": []
  }
 ],
 "metadata": {
  "kernelspec": {
   "display_name": "Python 3",
   "language": "python",
   "name": "python3"
  },
  "language_info": {
   "codemirror_mode": {
    "name": "ipython",
    "version": 3
   },
   "file_extension": ".py",
   "mimetype": "text/x-python",
   "name": "python",
   "nbconvert_exporter": "python",
   "pygments_lexer": "ipython3",
   "version": "3.7.6"
  }
 },
 "nbformat": 4,
 "nbformat_minor": 4
}
